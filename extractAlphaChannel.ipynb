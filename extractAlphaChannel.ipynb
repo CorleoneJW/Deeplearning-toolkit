{
 "cells": [
  {
   "cell_type": "code",
   "execution_count": null,
   "metadata": {},
   "outputs": [],
   "source": [
    "import os\n",
    "import numpy as np\n",
    "import matplotlib\n",
    "matplotlib.use('Agg')\n",
    "import matplotlib.pyplot as plt\n",
    "import SimpleITK as sitk\n",
    "from sklearn.decomposition import PCA\n",
    "import glob\n",
    "import cv2\n",
    "import umap\n",
    "from sklearn.manifold import TSNE\n",
    "import tifffile as tiff\n",
    "from PIL import Image"
   ]
  },
  {
   "cell_type": "code",
   "execution_count": null,
   "metadata": {},
   "outputs": [],
   "source": [
    "# original file name\n",
    "filename = f\"./NBI.png\"\n",
    "# convert the image with alpha channel into RGB image with only 3 channels\n",
    "converted_image = Image.open(filename).convert('RGB')\n",
    "# save image\n",
    "converted_image.save(\"./converted_image.png\")"
   ]
  }
 ],
 "metadata": {
  "language_info": {
   "name": "python"
  }
 },
 "nbformat": 4,
 "nbformat_minor": 2
}
