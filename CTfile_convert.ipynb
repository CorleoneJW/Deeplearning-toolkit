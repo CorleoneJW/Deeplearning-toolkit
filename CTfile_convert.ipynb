{
 "cells": [
  {
   "cell_type": "code",
   "execution_count": null,
   "metadata": {},
   "outputs": [],
   "source": [
    "import os\n",
    "import pydicom\n",
    "import numpy as np\n",
    "from pydicom.uid import ExplicitVRLittleEndian\n",
    "\n",
    "def process_dicom(file_path, output_folder):\n",
    "    # Read the DICOM file\n",
    "    output_info = pydicom.dcmread(file_path)\n",
    "    data = output_info.pixel_array\n",
    "\n",
    "    # Modify DICOM tags\n",
    "    output_info[(0x0028,0x0103)].value = 1\n",
    "    output_info[(0x0028,0x1052)].value = 0\n",
    "    output_info.file_meta.TransferSyntaxUID = ExplicitVRLittleEndian\n",
    "\n",
    "    # Replace the pixel data with modified data\n",
    "    output_info.PixelData = data.astype(np.int16).tobytes()\n",
    "    \n",
    "    # Set the patient name\n",
    "    output_info.PatientName = \"LDCT_converted\"\n",
    "\n",
    "    # Construct the output file name\n",
    "    base_name = os.path.basename(file_path)\n",
    "    save_path = os.path.join(output_folder, base_name)\n",
    "\n",
    "    # Save the modified DICOM file\n",
    "    output_info.save_as(save_path)\n",
    "\n",
    "def batch_process(input_folder, output_folder):\n",
    "    # Create the output folder if it doesn't exist\n",
    "    if not os.path.exists(output_folder):\n",
    "        os.makedirs(output_folder)\n",
    "\n",
    "    # Process each DICOM file in the folder\n",
    "    for file_name in os.listdir(input_folder):\n",
    "        if file_name.lower().endswith('.dcm'):\n",
    "            file_path = os.path.join(input_folder, file_name)\n",
    "            process_dicom(file_path, output_folder)\n",
    "            print(f\"Processed and saved: {file_name}\")\n",
    "\n",
    "# Specify the input and output directories\n",
    "input_folder = './path/to/input_folder'\n",
    "output_folder = './path/to/output_folder'\n",
    "\n",
    "# Call the batch processing function\n",
    "batch_process(input_folder, output_folder)\n"
   ]
  }
 ],
 "metadata": {
  "language_info": {
   "name": "python"
  }
 },
 "nbformat": 4,
 "nbformat_minor": 2
}
