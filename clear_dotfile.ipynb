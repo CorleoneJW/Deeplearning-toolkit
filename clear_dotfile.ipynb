{
 "cells": [
  {
   "cell_type": "code",
   "execution_count": null,
   "metadata": {},
   "outputs": [],
   "source": [
    "import os\n",
    "\n",
    "# 要清理的文件夹路径\n",
    "folder_path = '.'\n",
    "\n",
    "# 遍历文件夹及其子文件夹\n",
    "for root, dirs, files in os.walk(folder_path, topdown=False):\n",
    "    for file in files:\n",
    "        if file.startswith('.'):\n",
    "            # 构建文件的完整路径\n",
    "            file_path = os.path.join(root, file)\n",
    "            \n",
    "            # 删除文件\n",
    "            os.remove(file_path)\n",
    "            \n",
    "            print(f\"已删除文件: {file_path}\")\n",
    "    \n",
    "    for dir in dirs:\n",
    "        dir_path = os.path.join(root, dir)\n",
    "        if dir.startswith('.'):\n",
    "            # 删除文件夹\n",
    "            os.rmdir(dir_path)\n",
    "            print(f\"已删除文件夹: {dir_path}\")\n",
    "\n",
    "print(\"清理操作完成！\")\n"
   ]
  }
 ],
 "metadata": {
  "language_info": {
   "name": "python"
  }
 },
 "nbformat": 4,
 "nbformat_minor": 2
}
