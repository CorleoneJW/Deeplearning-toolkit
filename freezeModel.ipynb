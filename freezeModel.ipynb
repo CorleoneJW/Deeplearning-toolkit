{
 "cells": [
  {
   "cell_type": "code",
   "execution_count": null,
   "metadata": {},
   "outputs": [],
   "source": [
    "import torch.nn as nn\n",
    "\n",
    "class MyModel(nn.Module):\n",
    "    def __init__(self):\n",
    "        super(MyModel, self).__init__()\n",
    "        self.layer1 = nn.Linear(10, 20)\n",
    "        self.layer2 = nn.Linear(20, 30)\n",
    "        self.layer3 = nn.Linear(30, 40)\n",
    "        self.layer4 = nn.Linear(40, 50)\n",
    "\n",
    "# 创建模型实例\n",
    "model = MyModel()\n",
    "\n",
    "# 定义要冻结的层的名字\n",
    "layer_to_freeze = \"layer3\"\n",
    "\n",
    "# 找到该层的索引\n",
    "freeze_index = None\n",
    "for i, (name, layer) in enumerate(model.named_children()):\n",
    "    if name == layer_to_freeze:\n",
    "        freeze_index = i\n",
    "        break\n",
    "\n",
    "# 冻结该层及之前的所有层(包括当前层)\n",
    "for i, (name, layer) in enumerate(model.named_children()):\n",
    "    if i <= freeze_index:\n",
    "        for param in layer.parameters():\n",
    "            param.requires_grad = False\n",
    "\n",
    "# 验证参数是否被冻结\n",
    "for name, param in model.named_parameters():\n",
    "    print(f\"{name}: {param.requires_grad}\")\n"
   ]
  }
 ],
 "metadata": {
  "language_info": {
   "name": "python"
  }
 },
 "nbformat": 4,
 "nbformat_minor": 2
}
