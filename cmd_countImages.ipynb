{
 "cells": [
  {
   "cell_type": "code",
   "execution_count": null,
   "metadata": {},
   "outputs": [],
   "source": [
    "# windows\n",
    "# Get-ChildItem -Recurse -Include *.jpg,*.jpeg,*.png,*.gif,*.bmp | Measure-Object | Select-Object -ExpandProperty Count"
   ]
  },
  {
   "cell_type": "code",
   "execution_count": null,
   "metadata": {},
   "outputs": [],
   "source": [
    "# ubuntu\n",
    "# find ./ -type f \\( -name \"*.jpg\" -o -name \"*.png\" -o -name \"*.gif\" -o -name \"*.bmp\" \\) | wc -l"
   ]
  }
 ],
 "metadata": {
  "language_info": {
   "name": "python"
  }
 },
 "nbformat": 4,
 "nbformat_minor": 2
}
