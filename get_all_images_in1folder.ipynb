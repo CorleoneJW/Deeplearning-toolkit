{
 "cells": [
  {
   "cell_type": "code",
   "execution_count": null,
   "metadata": {},
   "outputs": [],
   "source": [
    "import os\n",
    "import shutil\n",
    "from PIL import Image\n",
    "\n",
    "def copy_and_convert_images(src_folder, dst_folder):\n",
    "    # 检查目标文件夹是否存在，如果不存在则创建\n",
    "    if not os.path.exists(dst_folder):\n",
    "        os.makedirs(dst_folder)\n",
    "    \n",
    "    # 使用 os.walk 递归遍历源文件夹及其所有子文件夹\n",
    "    for root, dirs, files in os.walk(src_folder):\n",
    "        for filename in files:\n",
    "            # 获取文件的完整路径\n",
    "            src_file = os.path.join(root, filename)\n",
    "            \n",
    "            # 检查文件是否为图片类型\n",
    "            if filename.lower().endswith(('.png', '.jpeg', '.gif', '.bmp', '.tiff')):\n",
    "                # 如果文件不是 jpg 格式，将其转换为 jpg\n",
    "                img = Image.open(src_file)\n",
    "                new_filename = os.path.splitext(filename)[0] + '.jpg'\n",
    "                dst_file = os.path.join(dst_folder, new_filename)\n",
    "                img = img.convert('RGB')\n",
    "                img.save(dst_file, 'JPEG')\n",
    "                # print(f'已转换并复制: {src_file} -> {dst_file}')\n",
    "            elif filename.lower().endswith('.jpg'):\n",
    "                # 如果文件已经是 jpg 格式，直接复制\n",
    "                shutil.copy(src_file, dst_folder)\n",
    "                # print(f'已复制: {src_file}')\n",
    "            else:\n",
    "                print(f'跳过: {src_file}')\n",
    "                \n",
    "# 设置源文件夹和目标文件夹路径\n",
    "src_folder = 'processed\\\\non-neoplastic'  # 替换为你的源文件夹路径\n",
    "dst_folder = 'unified\\\\non-neoplastic'  # 替换为你的目标文件夹路径\n",
    "\n",
    "# 调用函数执行复制和转换操作\n",
    "copy_and_convert_images(src_folder, dst_folder)\n",
    "\n",
    "print(\"Converting finished!\")"
   ]
  }
 ],
 "metadata": {
  "language_info": {
   "name": "python"
  }
 },
 "nbformat": 4,
 "nbformat_minor": 2
}
