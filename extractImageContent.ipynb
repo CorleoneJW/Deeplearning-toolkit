{
 "cells": [
  {
   "cell_type": "code",
   "execution_count": null,
   "metadata": {},
   "outputs": [],
   "source": [
    "import os\n",
    "from PIL import Image\n",
    "\n",
    "# define the location of content\n",
    "core_left_top = (698, 35)\n",
    "core_right_bottom = (1858, 1044)\n",
    "\n",
    "# using recursion to process the images\n",
    "def process_images_recursive(input_folder, output_folder):\n",
    "    # iterate the parent folder and subfolders\n",
    "    for root, _, filenames in os.walk(input_folder):\n",
    "        for filename in filenames:\n",
    "            # construct the file path\n",
    "            input_path = os.path.join(root, filename)\n",
    "            relative_path = os.path.relpath(input_path, input_folder)\n",
    "            output_path = os.path.join(output_folder, relative_path)\n",
    "            output_dir = os.path.dirname(output_path)\n",
    "            \n",
    "            # create the output folder\n",
    "            os.makedirs(output_dir, exist_ok=True)\n",
    "            \n",
    "            # open image\n",
    "            with Image.open(input_path) as img:\n",
    "                # crop the image according to the location \n",
    "                core_img = img.crop(core_left_top + core_right_bottom)\n",
    "                # convert the image to the format of RGB, in order to avoid the bug of RGBA, RGBD...\n",
    "                core_img = core_img.convert(\"RGB\")\n",
    "                # save the cropped image\n",
    "                core_img.save(output_path)\n",
    "\n",
    "# running function\n",
    "input_folder = \"data\"\n",
    "output_folder = \"data_processed\"\n",
    "process_images_recursive(input_folder, output_folder)"
   ]
  }
 ],
 "metadata": {
  "language_info": {
   "name": "python"
  }
 },
 "nbformat": 4,
 "nbformat_minor": 2
}
