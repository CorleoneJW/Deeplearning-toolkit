{
 "cells": [
  {
   "cell_type": "code",
   "execution_count": 3,
   "metadata": {},
   "outputs": [
    {
     "name": "stdout",
     "output_type": "stream",
     "text": [
      "任务完成\n"
     ]
    }
   ],
   "source": [
    "import os\n",
    "import shutil\n",
    "\n",
    "# 设置主文件夹路径\n",
    "# set the main folder path\n",
    "main_folder = './'\n",
    "\n",
    "# 设置目标文件夹路径\n",
    "# set the target folder path\n",
    "target_folder = './allImg'\n",
    "\n",
    "# the index of files\n",
    "num = 0\n",
    "\n",
    "# ieterate the images in main folder and subfolders\n",
    "# 遍历主文件夹中的子文件夹\n",
    "for subdir, dirs, files in os.walk(main_folder):\n",
    "    for file in files:\n",
    "        # check the file type\n",
    "        # 检查文件是否是图片文件，可以根据需要修改条件\n",
    "        if file.endswith(('.png', '.jpg', '.jpeg')):\n",
    "            # 构建源文件的路径\n",
    "            # generate the orginal file path\n",
    "            source_path = os.path.join(subdir, file)\n",
    "            \n",
    "            # generate the destination path\n",
    "            # 构建目标文件的路径，这里可以根据需要修改新的文件名\n",
    "            target_path = os.path.join(target_folder, str(num)+'.jpg')\n",
    "            \n",
    "            # copy the images file\n",
    "            shutil.copy(source_path, target_path)\n",
    "            \n",
    "            # index add 1\n",
    "            num+=1\n",
    "\n",
    "# finish\n",
    "print('mission finish.')\n"
   ]
  }
 ],
 "metadata": {
  "kernelspec": {
   "display_name": "dataEngineering",
   "language": "python",
   "name": "python3"
  },
  "language_info": {
   "codemirror_mode": {
    "name": "ipython",
    "version": 3
   },
   "file_extension": ".py",
   "mimetype": "text/x-python",
   "name": "python",
   "nbconvert_exporter": "python",
   "pygments_lexer": "ipython3",
   "version": "3.11.4"
  }
 },
 "nbformat": 4,
 "nbformat_minor": 2
}
